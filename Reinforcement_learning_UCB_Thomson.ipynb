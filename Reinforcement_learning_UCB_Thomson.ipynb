{
 "cells": [
  {
   "cell_type": "markdown",
   "id": "7055a16f",
   "metadata": {},
   "source": [
    "### Multi-Armed Bandit Strategies - Reinforcement Learning\n",
    "The provided code is a Python script that demonstrates two different approaches to solving a multi-armed bandit problem. Multi-armed bandits are a class of reinforcement learning problems where an agent must choose from a set of actions (arms) to maximize their cumulative reward over time. In this script, we use two different strategies: the Upper Confidence Bound (UCB) and Thompson Sampling (Beta Distribution).\n",
    "\n",
    "1. **UCB (Upper Confidence Bound):** This strategy employs the Upper Confidence Bound method to decide which ad to display. It aims to balance exploration and exploitation by selecting ads with the highest estimated upper bound of reward. The code reads a dataset from an Excel file and uses the UCB algorithm to select ads over a specified number of rounds (T). It then plots a histogram showing how often each ad was selected.\n",
    "\n",
    "2. **Thompson Sampling:** This strategy uses the Thompson Sampling algorithm to choose ads. It models the reward distribution for each ad using Beta distributions and samples from these distributions to decide which ad to display. The code randomly selects ads over a specified number of rounds (N) using this approach and then plots a histogram of ad selections."
   ]
  },
  {
   "cell_type": "code",
   "execution_count": 4,
   "id": "3e23841b",
   "metadata": {},
   "outputs": [
    {
     "name": "stdout",
     "output_type": "stream",
     "text": [
      "Collecting xlrd\n",
      "  Downloading xlrd-2.0.1-py2.py3-none-any.whl (96 kB)\n",
      "     ---------------------------------------- 0.0/96.5 kB ? eta -:--:--\n",
      "     -------------------------------------- - 92.2/96.5 kB 2.6 MB/s eta 0:00:01\n",
      "     ---------------------------------------- 96.5/96.5 kB 1.9 MB/s eta 0:00:00\n",
      "Installing collected packages: xlrd\n",
      "Successfully installed xlrd-2.0.1\n"
     ]
    },
    {
     "name": "stderr",
     "output_type": "stream",
     "text": [
      "\n",
      "[notice] A new release of pip is available: 23.0.1 -> 23.3\n",
      "[notice] To update, run: python.exe -m pip install --upgrade pip\n"
     ]
    }
   ],
   "source": [
    "!pip install xlrd"
   ]
  },
  {
   "cell_type": "code",
   "execution_count": 1,
   "id": "0de59772",
   "metadata": {},
   "outputs": [],
   "source": [
    "import numpy as np\n",
    "import matplotlib.pyplot as plt\n",
    "import pandas as pd"
   ]
  },
  {
   "cell_type": "code",
   "execution_count": 6,
   "id": "78bc4bcd",
   "metadata": {},
   "outputs": [],
   "source": [
    "df = pd.read_excel('Dataset_master.xlsx', sheet_name='Upper Confidence Bound Facebook') "
   ]
  },
  {
   "cell_type": "code",
   "execution_count": 8,
   "id": "2554d3ae",
   "metadata": {
    "scrolled": true
   },
   "outputs": [
    {
     "data": {
      "text/html": [
       "<div>\n",
       "<style scoped>\n",
       "    .dataframe tbody tr th:only-of-type {\n",
       "        vertical-align: middle;\n",
       "    }\n",
       "\n",
       "    .dataframe tbody tr th {\n",
       "        vertical-align: top;\n",
       "    }\n",
       "\n",
       "    .dataframe thead th {\n",
       "        text-align: right;\n",
       "    }\n",
       "</style>\n",
       "<table border=\"1\" class=\"dataframe\">\n",
       "  <thead>\n",
       "    <tr style=\"text-align: right;\">\n",
       "      <th></th>\n",
       "      <th>Advertisement 1</th>\n",
       "      <th>Advertisement 2</th>\n",
       "      <th>Advertisement 3</th>\n",
       "      <th>Advertisement 4</th>\n",
       "      <th>Advertisement 5</th>\n",
       "      <th>Advertisement 6</th>\n",
       "      <th>Advertisement 7</th>\n",
       "      <th>Advertisement 8</th>\n",
       "      <th>Advertisement 9</th>\n",
       "      <th>Advertisement 10</th>\n",
       "    </tr>\n",
       "  </thead>\n",
       "  <tbody>\n",
       "    <tr>\n",
       "      <th>0</th>\n",
       "      <td>0</td>\n",
       "      <td>0</td>\n",
       "      <td>0</td>\n",
       "      <td>1</td>\n",
       "      <td>0</td>\n",
       "      <td>1</td>\n",
       "      <td>0</td>\n",
       "      <td>0</td>\n",
       "      <td>0</td>\n",
       "      <td>0</td>\n",
       "    </tr>\n",
       "    <tr>\n",
       "      <th>1</th>\n",
       "      <td>0</td>\n",
       "      <td>1</td>\n",
       "      <td>0</td>\n",
       "      <td>1</td>\n",
       "      <td>0</td>\n",
       "      <td>0</td>\n",
       "      <td>0</td>\n",
       "      <td>0</td>\n",
       "      <td>1</td>\n",
       "      <td>0</td>\n",
       "    </tr>\n",
       "    <tr>\n",
       "      <th>2</th>\n",
       "      <td>0</td>\n",
       "      <td>0</td>\n",
       "      <td>0</td>\n",
       "      <td>1</td>\n",
       "      <td>0</td>\n",
       "      <td>0</td>\n",
       "      <td>1</td>\n",
       "      <td>0</td>\n",
       "      <td>0</td>\n",
       "      <td>0</td>\n",
       "    </tr>\n",
       "    <tr>\n",
       "      <th>3</th>\n",
       "      <td>1</td>\n",
       "      <td>0</td>\n",
       "      <td>0</td>\n",
       "      <td>0</td>\n",
       "      <td>0</td>\n",
       "      <td>0</td>\n",
       "      <td>0</td>\n",
       "      <td>0</td>\n",
       "      <td>0</td>\n",
       "      <td>0</td>\n",
       "    </tr>\n",
       "    <tr>\n",
       "      <th>4</th>\n",
       "      <td>0</td>\n",
       "      <td>0</td>\n",
       "      <td>0</td>\n",
       "      <td>0</td>\n",
       "      <td>0</td>\n",
       "      <td>0</td>\n",
       "      <td>0</td>\n",
       "      <td>0</td>\n",
       "      <td>0</td>\n",
       "      <td>0</td>\n",
       "    </tr>\n",
       "  </tbody>\n",
       "</table>\n",
       "</div>"
      ],
      "text/plain": [
       "   Advertisement 1  Advertisement 2  Advertisement 3  Advertisement 4  \\\n",
       "0                0                0                0                1   \n",
       "1                0                1                0                1   \n",
       "2                0                0                0                1   \n",
       "3                1                0                0                0   \n",
       "4                0                0                0                0   \n",
       "\n",
       "   Advertisement 5  Advertisement 6  Advertisement 7  Advertisement 8  \\\n",
       "0                0                1                0                0   \n",
       "1                0                0                0                0   \n",
       "2                0                0                1                0   \n",
       "3                0                0                0                0   \n",
       "4                0                0                0                0   \n",
       "\n",
       "   Advertisement 9  Advertisement 10  \n",
       "0                0                 0  \n",
       "1                1                 0  \n",
       "2                0                 0  \n",
       "3                0                 0  \n",
       "4                0                 0  "
      ]
     },
     "execution_count": 8,
     "metadata": {},
     "output_type": "execute_result"
    }
   ],
   "source": [
    "df.head()"
   ]
  },
  {
   "cell_type": "code",
   "execution_count": 10,
   "id": "7455e5a1",
   "metadata": {},
   "outputs": [],
   "source": [
    "import math\n",
    "T = 200\n",
    "num_ads = 10\n",
    "ads_selected = []\n",
    "numbers_of_selections = [0] * num_ads\n",
    "sums_of_rewards = [0] * num_ads\n",
    "total_reward = 0\n",
    "\n",
    "for n in range(0, T):\n",
    "  ad = 0\n",
    "  max_upper_bound = 0\n",
    "  for i in range(0, num_ads):\n",
    "    if (numbers_of_selections[i] > 0):\n",
    "      average_reward = sums_of_rewards[i] / numbers_of_selections[i]\n",
    "      delta_i = math.sqrt(3/2 * math.log(n + 1) / numbers_of_selections[i])\n",
    "      upper_bound = average_reward + delta_i\n",
    "    else:\n",
    "      upper_bound = 1e400\n",
    "    if (upper_bound > max_upper_bound):\n",
    "      max_upper_bound = upper_bound\n",
    "      ad = i\n",
    "  ads_selected.append(ad)\n",
    "  numbers_of_selections[ad] = numbers_of_selections[ad] + 1\n",
    "  reward = df.values[n, ad]\n",
    "  sums_of_rewards[ad] = sums_of_rewards[ad] + reward\n",
    "  total_reward = total_reward + reward"
   ]
  },
  {
   "cell_type": "code",
   "execution_count": 11,
   "id": "f20954fb",
   "metadata": {},
   "outputs": [
    {
     "data": {
      "image/png": "[encoded data removed]",
      "text/plain": [
       "<Figure size 640x480 with 1 Axes>"
      ]
     },
     "metadata": {},
     "output_type": "display_data"
    }
   ],
   "source": [
    "plt.hist(ads_selected)\n",
    "plt.title('Histogram of ads selections')\n",
    "plt.xlabel('Ads')\n",
    "plt.ylabel('Number of times each ad was selected')\n",
    "plt.show()"
   ]
  },
  {
   "cell_type": "code",
   "execution_count": 12,
   "id": "08392997",
   "metadata": {},
   "outputs": [],
   "source": [
    "import random\n",
    "N = 15000\n",
    "num_ads = 10\n",
    "ads_selected = []\n",
    "num_of_rewards_1 = [0] * num_ads\n",
    "num_of_rewards_0 = [0] * num_ads\n",
    "total_reward = 0\n",
    "for n in range(0, N):\n",
    "  ad = 0\n",
    "  max_random = 0\n",
    "  for i in range(0, num_ads):\n",
    "    random_beta = random.betavariate(num_of_rewards_1[i] + 1, num_of_rewards_0[i] + 1)\n",
    "    if (random_beta > max_random):\n",
    "      max_random = random_beta\n",
    "      ad = i\n",
    "  ads_selected.append(ad)\n",
    "  reward = df.values[n, ad]\n",
    "  if reward == 1:\n",
    "    num_of_rewards_1[ad] = num_of_rewards_1[ad] + 1\n",
    "  else:\n",
    "    num_of_rewards_0[ad] = num_of_rewards_0[ad] + 1\n",
    "  total_reward = total_reward + reward"
   ]
  },
  {
   "cell_type": "code",
   "execution_count": 13,
   "id": "f030e770",
   "metadata": {
    "scrolled": true
   },
   "outputs": [
    {
     "data": {
      "image/png": "[encoded data removed]",
      "text/plain": [
       "<Figure size 640x480 with 1 Axes>"
      ]
     },
     "metadata": {},
     "output_type": "display_data"
    }
   ],
   "source": [
    "plt.hist(ads_selected)\n",
    "plt.title('Histogram of ads selections')\n",
    "plt.xlabel('Ads')\n",
    "plt.ylabel('Number of times each ad was selected')\n",
    "plt.show()"
   ]
  },
  {
   "cell_type": "code",
   "execution_count": null,
   "id": "fe8a86bc",
   "metadata": {},
   "outputs": [],
   "source": []
  }
 ],
 "metadata": {
  "kernelspec": {
   "display_name": "Python 3 (ipykernel)",
   "language": "python",
   "name": "python3"
  },
  "language_info": {
   "codemirror_mode": {
    "name": "ipython",
    "version": 3
   },
   "file_extension": ".py",
   "mimetype": "text/x-python",
   "name": "python",
   "nbconvert_exporter": "python",
   "pygments_lexer": "ipython3",
   "version": "3.11.2"
  }
 },
 "nbformat": 4,
 "nbformat_minor": 5
}
